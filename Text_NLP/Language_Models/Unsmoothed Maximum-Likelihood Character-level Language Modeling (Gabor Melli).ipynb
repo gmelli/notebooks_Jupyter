{ 
 "cells": [
  {
   "cell_type": "markdown",
   "metadata": {},
   "source": [
    "This notebook currently largely reproduces the code at http://nbviewer.jupyter.org/gist/yoavg/d76121dfde2618422139\n",
    "(it has been naively ported to Python 3)"
   ]
  },
  {
   "cell_type": "code",
   "execution_count": 2,
   "metadata": {
    "collapsed": true
   },
   "outputs": [],
   "source": [
    "from collections import *\n",
    "\n",
    "def xrange(x):\n",
    "    return iter(range(x))\n",
    "\n",
    "def train_char_lm(fname, order=4):\n",
    "    f = open(fname)\n",
    "    data = f.read()\n",
    "    #data = f.readlines()\n",
    "    # data = file(fname).read()\n",
    "    f.close()\n",
    "    \n",
    "    lm = defaultdict(Counter)\n",
    "    pad = \"~\" * order\n",
    "    data = pad + data\n",
    "    for i in xrange(len(data)-order):\n",
    "        history, char = data[i:i+order], data[i+order]\n",
    "        lm[history][char]+=1\n",
    "        \n",
    "    def normalize(counter):\n",
    "        s = float(sum(counter.values()))\n",
    "        return [(c,cnt/s) for c,cnt in counter.items()]\n",
    "    \n",
    "    outlm = {hist:normalize(chars) for hist, chars in lm.items()}\n",
    "    return outlm\n"
   ]
  },
  {
   "cell_type": "markdown",
   "metadata": {},
   "source": [
    "!wget http://cs.stanford.edu/people/karpathy/char-rnn/shakespeare_input.txt"
   ]
  },
  {
   "cell_type": "code",
   "execution_count": 3,
   "metadata": {},
   "outputs": [],
   "source": [
    "lm3 = train_char_lm(\"data/shakespeare_input.txt\", order=3)"
   ]
  },
  {
   "cell_type": "code",
   "execution_count": 4,
   "metadata": {},
   "outputs": [
    {
     "data": {
      "text/plain": [
       "[('s', 0.49944258639910816),\n",
       " ('e', 0.32887402452619846),\n",
       " ('m', 0.16722408026755853),\n",
       " ('i', 0.0011148272017837235),\n",
       " ('k', 0.002229654403567447),\n",
       " ('a', 0.0011148272017837235)]"
      ]
     },
     "execution_count": 4,
     "metadata": {},
     "output_type": "execute_result"
    }
   ],
   "source": [
    "lm3['fir']"
   ]
  },
  {
   "cell_type": "code",
   "execution_count": 5,
   "metadata": {
    "collapsed": true
   },
   "outputs": [],
   "source": [
    "lm4 = train_char_lm(\"data/shakespeare_input.txt\", order=4)"
   ]
  },
  {
   "cell_type": "code",
   "execution_count": 6,
   "metadata": {},
   "outputs": [
    {
     "data": {
      "text/plain": [
       "[('t', 1.0)]"
      ]
     },
     "execution_count": 6,
     "metadata": {},
     "output_type": "execute_result"
    }
   ],
   "source": [
    "lm4['firs']"
   ]
  },
  {
   "cell_type": "markdown",
   "metadata": {},
   "source": [
    "Let's generate some text"
   ]
  },
  {
   "cell_type": "code",
   "execution_count": 11,
   "metadata": {
    "collapsed": true
   },
   "outputs": [],
   "source": [
    "from random import random\n",
    "\n",
    "def generate_letter(lm, history, order):\n",
    "  ''' Randomly chooses the next letter using the language model.\n",
    "  \n",
    "  Inputs:\n",
    "    lm: The output from calling train_char_lm.\n",
    "    history: A sequence of text at least 'order' long.\n",
    "    order: The length of the n-grams in the language model.\n",
    "    \n",
    "  Returns: \n",
    "    A letter\n",
    "  '''\n",
    "  \n",
    "  history = history[-order:]\n",
    "  dist = lm[history]\n",
    "  x = random()\n",
    "  for c,v in dist:\n",
    "    x = x - v\n",
    "    if x <= 0: return c"
   ]
  },
  {
   "cell_type": "code",
   "execution_count": 12,
   "metadata": {
    "collapsed": true
   },
   "outputs": [],
   "source": [
    "def generate_text(lm, order, nletters=500):\n",
    "  '''Generates a bunch of random text based on the language model.\n",
    "  \n",
    "  Inputs:\n",
    "  lm: The output from calling train_char_lm.\n",
    "  order: The length of the n-grams in the language model.\n",
    "  nletters: the number of characters worth of text to generate\n",
    "  \n",
    "  Returns: \n",
    "    A letter  \n",
    "  '''\n",
    "  history = \"~\" * order\n",
    "  out = []\n",
    "  for i in range(nletters):\n",
    "    c = generate_letter(lm, history, order)\n",
    "    history = history[-order:] + c\n",
    "    out.append(c)\n",
    "  return \"\".join(out)"
   ]
  },
  {
   "cell_type": "code",
   "execution_count": 13,
   "metadata": {},
   "outputs": [
    {
     "data": {
      "text/plain": [
       "\"Fir Seettim your he I an and this thim ther clabouty;\\nUnabow tho dow:\\nThathoraid, I wer reek haft.\\n\\nProur promplat re my my me;\\nLANTIO:\\nI'll byse, thande alorromen, an blown! I king they wity thon, th, and hent shour st have cons hatem a not of So not ey, bithall you of bed reat she an, tre an clorte, Give,\\nWhim.\\n\\nPIDARD RING HUBEL:\\nNay ant: ther sweds noweete mon re thy se hine. War; I cap ineithervill int a\\nyour my by goo he Bromigh even enstrund my the sh-laclown: way's my togul ther prin to \""
      ]
     },
     "execution_count": 13,
     "metadata": {},
     "output_type": "execute_result"
    }
   ],
   "source": [
    "lm_2 = train_char_lm(\"data/shakespeare_input.txt\", order=2)\n",
    "generate_text(lm_2, 2, 500)"
   ]
  },
  {
   "cell_type": "code",
   "execution_count": 14,
   "metadata": {},
   "outputs": [
    {
     "data": {
      "text/plain": [
       "\"First Citizen:\\n'Tis proclaimed toothness the done wreath left them, and with my me: go, I pray frame the gall shall his killet us loved at thou tress:\\nO you me of thief-Just not fame, looked of the Stay with me.\\n\\nMARK ANTONIO:\\nIn all by the kite depart intrust us, grate,\\nOur pure\\nNurse and might cold,\\nDrew him! dost spirit,\\nI put them in brace warliamend the consent for you comes their fit,\\nHe's a very gown.\\n\\nGLOUCESTER:\\nThe deparelest day; town!\\n\\nSIR HUGH EVANS:\\nNo long-time's tears:\\nHe's dead \""
      ]
     },
     "execution_count": 14,
     "metadata": {},
     "output_type": "execute_result"
    }
   ],
   "source": [
    "lm_4 = train_char_lm(\"data/shakespeare_input.txt\", order=4)\n",
    "generate_text(lm_4, 4, 500)"
   ]
  },
  {
   "cell_type": "code",
   "execution_count": 16,
   "metadata": {},
   "outputs": [
    {
     "data": {
      "text/plain": [
       "\"First Citizen:\\nFor you in my dishonour'd dame,\\nLord Junius Brutus, is not quickly.\\n\\nMessenger:\\nWell, I had rather that such a place, I multiplying spawn how can I make a voyage, and I'll salute your grace defend us.\\n\\nTITUS ANDRONICUS:\\nI did but trifles, nothing can we call her?\\n\\nSPEED:\\nI tell this evening?\\nWhat masquing mates by the story,\\nThe court of Venice;\\nMy house and at my departure, as you have said, so done, is well.\\n\\nMARCIUS:\\nSir,\\nI am thus early for thee: for that. Does he lie at\\nthe a\""
      ]
     },
     "execution_count": 16,
     "metadata": {},
     "output_type": "execute_result"
    }
   ],
   "source": [
    "lm_9 = train_char_lm(\"data/shakespeare_input.txt\", order=9)\n",
    "generate_text(lm_9, 9, 500)"
   ]
  },
  {
   "cell_type": "markdown",
   "metadata": {},
   "source": [
    "<B>Change to GM-RKB Data</B>"
   ]
  },
  {
   "cell_type": "code",
   "execution_count": 20,
   "metadata": {},
   "outputs": [
    {
     "data": {
      "text/plain": [
       "'15. Though multi-latent description]], where [[subfield]]s, but a [[hypothesis]] at [[frequence Reliable]] is challenge]]s, [[sparsing]] [[methods]] for [[experimenterpretable]], based on [[centrality]] .\\nIn additiveness]] the <i>[[minimizing [[algorithm]] has [[low-quality]] are considered a specific changes]] are some [[content regulator]] in the particularly]] plays the [[real]] [[author]] and is [[memory-efficient]]s for [[experiment]], [[Discrete interest]] of [[formation making problem]], '"
      ]
     },
     "execution_count": 20,
     "metadata": {},
     "output_type": "execute_result"
    }
   ],
   "source": [
    "lm = train_char_lm(\"data/rkb-mediawiki-20180324-1203.srt.brk.3.txt\", order=5)\n",
    "generate_text(lm, 5, 500)"
   ]
  },
  {
   "cell_type": "code",
   "execution_count": 21,
   "metadata": {},
   "outputs": [
    {
     "data": {
      "text/plain": [
       "'15. Though one [[man]]’s [[idea]] of [[our approach]] for [[semi-supervised manner]] and present our [[learning algorithm]] does not include [[capitalism]] works effectively [[map]] long [[entity identification]] .\\n[[Our results]] comparable [[cost data]] form the [[target]] [[relational data (network)]], and [[harness]] them [[collectively]] to [[estimate / update]] [[the]] [[effectiveness]] and [[performance]] .\\nSpecifically, [[we]] consider the [[problem]] of [[efficient]] [[iteration]]s when'"
      ]
     },
     "execution_count": 21,
     "metadata": {},
     "output_type": "execute_result"
    }
   ],
   "source": [
    "lm_12 = train_char_lm(\"data/rkb-mediawiki-20180324-1203.srt.brk.3.txt\", order=12)\n",
    "generate_text(lm_12, 12, 500)"
   ]
  },
  {
   "cell_type": "code",
   "execution_count": 19,
   "metadata": {},
   "outputs": [
    {
     "data": {
      "text/plain": [
       "[('a', 0.3909348441926346),\n",
       " (']', 0.48725212464589235),\n",
       " ('s', 0.0906515580736544),\n",
       " ('e', 0.0056657223796034),\n",
       " (' ', 0.019830028328611898),\n",
       " ('i', 0.0056657223796034)]"
      ]
     },
     "execution_count": 19,
     "metadata": {},
     "output_type": "execute_result"
    }
   ],
   "source": [
    "lm_12['[[experiment']"
   ]
  },
  {
   "cell_type": "markdown",
   "metadata": {
    "collapsed": true
   },
   "source": [
    "----\n",
    "\n",
    "----"
   ]
  }
 ],
 "metadata": {
  "kernelspec": {
   "display_name": "Python 3",
   "language": "python",
   "name": "python3"
  }
 },
 "nbformat": 4,
 "nbformat_minor": 2
}
